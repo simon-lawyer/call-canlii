{
 "cells": [
  {
   "cell_type": "markdown",
   "metadata": {},
   "source": [
    "# caller\n",
    "\n",
    "> Interact with CanLii programmatically"
   ]
  },
  {
   "cell_type": "code",
   "execution_count": null,
   "metadata": {},
   "outputs": [],
   "source": [
    "#| default_exp caller"
   ]
  },
  {
   "cell_type": "code",
   "execution_count": null,
   "metadata": {},
   "outputs": [],
   "source": [
    "#| hide\n",
    "from nbdev.showdoc import *"
   ]
  },
  {
   "cell_type": "code",
   "execution_count": null,
   "metadata": {},
   "outputs": [],
   "source": [
    "#| export\n",
    "import pandas as pd\n",
    "import requests\n",
    "import json"
   ]
  },
  {
   "cell_type": "code",
   "execution_count": null,
   "metadata": {},
   "outputs": [],
   "source": [
    "#| export\n",
    "class Caller:\n",
    "    \"Enter your APIkey and your preferred language ('en' or 'fr')\"\n",
    "    def __init__(self, key, language):\n",
    "        self.key = key\n",
    "        self.language = language\n",
    "    \n",
    "    def isolate_id(self, dictionary):\n",
    "        #used for the list_decisions call\n",
    "        #some databases return caseId as a language\n",
    "        try:\n",
    "            case_id = dictionary[self.language]\n",
    "        except:\n",
    "            if self.language == 'en':\n",
    "                case_id = dictionary['fr']\n",
    "            else:\n",
    "                case_id = dictionary['en']\n",
    "        return case_id    \n",
    "        \n",
    "    def list_tribunals(self):\n",
    "        \"No arguments required. Automatically checks CanLii for the latest list of databases.\"\n",
    "        res = requests.get(f'https://api.canlii.org/v1/caseBrowse/{self.language}/?api_key={self.key}')\n",
    "        json_res = json.loads(res.text)\n",
    "        df = pd.DataFrame.from_dict(json_res['caseDatabases'])\n",
    "        return df\n",
    "    \n",
    "    def list_decisions(self, databaseId, offset=0, resultCount=100):\n",
    "        \"Offset: (0 = descending, 1 = ascending)\"\n",
    "        res = requests.get(f'https://api.canlii.org/v1/caseBrowse/{self.language}/{databaseId}/?offset={offset}&resultCount={resultCount}&api_key={self.key}')\n",
    "        json_res = json.loads(res.text)\n",
    "        df = pd.DataFrame.from_dict(json_res['cases'])\n",
    "        df['caseId'] = df['caseId'].apply(self.isolate_id)\n",
    "        df.drop(columns=['databaseId'], inplace=True)\n",
    "        return df\n",
    "    \n",
    "    def case_metadata(self, databaseId, caseId):\n",
    "        res = requests.get(f'https://api.canlii.org/v1/caseBrowse/{self.language}/{databaseId}/{caseId}/?api_key={self.key}')\n",
    "        json_res = json.loads(res.text)\n",
    "        df = pd.Series(json_res)\n",
    "        return df\n",
    "    \n",
    "    def case_cites_of_cases(self, databaseId, caseId):\n",
    "        \"Get a list of all the cases your target case cites.\"\n",
    "        res = requests.get(f'https://api.canlii.org/v1/caseCitator/en/{databaseId}/{caseId}/citedCases?api_key={self.key}')\n",
    "        json_res = json.loads(res.text)\n",
    "        df = pd.DataFrame.from_dict(json_res['citedCases'])\n",
    "        df['caseId'] = df['caseId'].apply(self.isolate_id)\n",
    "        df.drop(columns=['databaseId'], inplace=True)\n",
    "        return df\n",
    "    \n",
    "    def case_cites_of_legislation(self, databaseId, caseId):\n",
    "        \"Get a list of all the legislation your target case cites.\"\n",
    "        res = requests.get(f'https://api.canlii.org/v1/caseCitator/en/{databaseId}/{caseId}/citedLegislations?api_key={self.key}')\n",
    "        json_res = json.loads(res.text)\n",
    "        df = pd.DataFrame.from_dict(json_res['citedLegislations'])\n",
    "        return df\n",
    "    \n",
    "    def cites_of_case(self, databaseId, caseId):\n",
    "        \"Get a list of all the cases that cite your target case.\"\n",
    "        res = requests.get(f'https://api.canlii.org/v1/caseCitator/en/{databaseId}/{caseId}/citingCases?api_key={self.key}')\n",
    "        json_res = json.loads(res.text)\n",
    "        df = pd.DataFrame.from_dict(json_res['citingCases'])\n",
    "        df['caseId'] = df['caseId'].apply(self.isolate_id)\n",
    "        df.drop(columns=['databaseId'], inplace=True)\n",
    "        return df"
   ]
  },
  {
   "cell_type": "markdown",
   "metadata": {},
   "source": [
    "## Instantiate the object\n",
    "Enter your API and preferred language when you substantiate the Caller.\n",
    "```sh\n",
    "API = \"YOUR SECRET KEY\"\n",
    "language = 'en'\n",
    "\n",
    "my_caller = Caller(API,language)\n",
    "```"
   ]
  },
  {
   "cell_type": "markdown",
   "metadata": {},
   "source": [
    "## Use the Caller to make discrete CanLii requests\n",
    "The caller can:\n",
    "\n",
    "1. List all CanLii tribunal databases\n",
    "2. List all decisions in a CanLii database\n",
    "3. Query metadata for a specific case\n",
    "4. List the cases the target case cites\n",
    "5. List the legislation the target case cites\n",
    "6. List the cases that cite the target case"
   ]
  },
  {
   "cell_type": "code",
   "execution_count": null,
   "metadata": {},
   "outputs": [
    {
     "data": {
      "text/markdown": [
       "---\n",
       "\n",
       "[source](https://github.com/simon-lawyer/call-canlii/blob/master/call_canlii/caller.py#L30){target=\"_blank\" style=\"float:right; font-size:smaller\"}\n",
       "\n",
       "### Caller.list_tribunals\n",
       "\n",
       ">      Caller.list_tribunals ()\n",
       "\n",
       "No arguments required. Automatically checks CanLii for the latest list of databases."
      ],
      "text/plain": [
       "---\n",
       "\n",
       "[source](https://github.com/simon-lawyer/call-canlii/blob/master/call_canlii/caller.py#L30){target=\"_blank\" style=\"float:right; font-size:smaller\"}\n",
       "\n",
       "### Caller.list_tribunals\n",
       "\n",
       ">      Caller.list_tribunals ()\n",
       "\n",
       "No arguments required. Automatically checks CanLii for the latest list of databases."
      ]
     },
     "execution_count": null,
     "metadata": {},
     "output_type": "execute_result"
    }
   ],
   "source": [
    "show_doc(Caller.list_tribunals)"
   ]
  },
  {
   "cell_type": "code",
   "execution_count": null,
   "metadata": {},
   "outputs": [
    {
     "data": {
      "text/markdown": [
       "---\n",
       "\n",
       "[source](https://github.com/simon-lawyer/call-canlii/blob/master/call_canlii/caller.py#L37){target=\"_blank\" style=\"float:right; font-size:smaller\"}\n",
       "\n",
       "### Caller.list_decisions\n",
       "\n",
       ">      Caller.list_decisions (databaseId, offset=0, resultCount=100)\n",
       "\n",
       "Offset: (0 = descending, 1 = ascending)"
      ],
      "text/plain": [
       "---\n",
       "\n",
       "[source](https://github.com/simon-lawyer/call-canlii/blob/master/call_canlii/caller.py#L37){target=\"_blank\" style=\"float:right; font-size:smaller\"}\n",
       "\n",
       "### Caller.list_decisions\n",
       "\n",
       ">      Caller.list_decisions (databaseId, offset=0, resultCount=100)\n",
       "\n",
       "Offset: (0 = descending, 1 = ascending)"
      ]
     },
     "execution_count": null,
     "metadata": {},
     "output_type": "execute_result"
    }
   ],
   "source": [
    "show_doc(Caller.list_decisions)"
   ]
  },
  {
   "cell_type": "code",
   "execution_count": null,
   "metadata": {},
   "outputs": [
    {
     "data": {
      "text/markdown": [
       "---\n",
       "\n",
       "[source](https://github.com/simon-lawyer/call-canlii/blob/master/call_canlii/caller.py#L46){target=\"_blank\" style=\"float:right; font-size:smaller\"}\n",
       "\n",
       "### Caller.case_metadata\n",
       "\n",
       ">      Caller.case_metadata (databaseId, caseId)"
      ],
      "text/plain": [
       "---\n",
       "\n",
       "[source](https://github.com/simon-lawyer/call-canlii/blob/master/call_canlii/caller.py#L46){target=\"_blank\" style=\"float:right; font-size:smaller\"}\n",
       "\n",
       "### Caller.case_metadata\n",
       "\n",
       ">      Caller.case_metadata (databaseId, caseId)"
      ]
     },
     "execution_count": null,
     "metadata": {},
     "output_type": "execute_result"
    }
   ],
   "source": [
    "show_doc(Caller.case_metadata)"
   ]
  },
  {
   "cell_type": "code",
   "execution_count": null,
   "metadata": {},
   "outputs": [
    {
     "data": {
      "text/markdown": [
       "---\n",
       "\n",
       "[source](https://github.com/simon-lawyer/call-canlii/blob/master/call_canlii/caller.py#L52){target=\"_blank\" style=\"float:right; font-size:smaller\"}\n",
       "\n",
       "### Caller.case_cites_of_cases\n",
       "\n",
       ">      Caller.case_cites_of_cases (databaseId, caseId)\n",
       "\n",
       "Get a list of all the cases your target case cites."
      ],
      "text/plain": [
       "---\n",
       "\n",
       "[source](https://github.com/simon-lawyer/call-canlii/blob/master/call_canlii/caller.py#L52){target=\"_blank\" style=\"float:right; font-size:smaller\"}\n",
       "\n",
       "### Caller.case_cites_of_cases\n",
       "\n",
       ">      Caller.case_cites_of_cases (databaseId, caseId)\n",
       "\n",
       "Get a list of all the cases your target case cites."
      ]
     },
     "execution_count": null,
     "metadata": {},
     "output_type": "execute_result"
    }
   ],
   "source": [
    "show_doc(Caller.case_cites_of_cases)"
   ]
  },
  {
   "cell_type": "code",
   "execution_count": null,
   "metadata": {},
   "outputs": [
    {
     "data": {
      "text/markdown": [
       "---\n",
       "\n",
       "[source](https://github.com/simon-lawyer/call-canlii/blob/master/call_canlii/caller.py#L61){target=\"_blank\" style=\"float:right; font-size:smaller\"}\n",
       "\n",
       "### Caller.case_cites_of_legislation\n",
       "\n",
       ">      Caller.case_cites_of_legislation (databaseId, caseId)\n",
       "\n",
       "Get a list of all the legislation your target case cites."
      ],
      "text/plain": [
       "---\n",
       "\n",
       "[source](https://github.com/simon-lawyer/call-canlii/blob/master/call_canlii/caller.py#L61){target=\"_blank\" style=\"float:right; font-size:smaller\"}\n",
       "\n",
       "### Caller.case_cites_of_legislation\n",
       "\n",
       ">      Caller.case_cites_of_legislation (databaseId, caseId)\n",
       "\n",
       "Get a list of all the legislation your target case cites."
      ]
     },
     "execution_count": null,
     "metadata": {},
     "output_type": "execute_result"
    }
   ],
   "source": [
    "show_doc(Caller.case_cites_of_legislation)"
   ]
  },
  {
   "cell_type": "code",
   "execution_count": null,
   "metadata": {},
   "outputs": [
    {
     "data": {
      "text/markdown": [
       "---\n",
       "\n",
       "[source](https://github.com/simon-lawyer/call-canlii/blob/master/call_canlii/caller.py#L68){target=\"_blank\" style=\"float:right; font-size:smaller\"}\n",
       "\n",
       "### Caller.cites_of_case\n",
       "\n",
       ">      Caller.cites_of_case (databaseId, caseId)\n",
       "\n",
       "Get a list of all the cases that cite your target case."
      ],
      "text/plain": [
       "---\n",
       "\n",
       "[source](https://github.com/simon-lawyer/call-canlii/blob/master/call_canlii/caller.py#L68){target=\"_blank\" style=\"float:right; font-size:smaller\"}\n",
       "\n",
       "### Caller.cites_of_case\n",
       "\n",
       ">      Caller.cites_of_case (databaseId, caseId)\n",
       "\n",
       "Get a list of all the cases that cite your target case."
      ]
     },
     "execution_count": null,
     "metadata": {},
     "output_type": "execute_result"
    }
   ],
   "source": [
    "show_doc(Caller.cites_of_case)"
   ]
  },
  {
   "cell_type": "code",
   "execution_count": null,
   "metadata": {},
   "outputs": [],
   "source": [
    "#| hide\n",
    "import nbdev; nbdev.nbdev_export()"
   ]
  }
 ],
 "metadata": {
  "kernelspec": {
   "display_name": "Python 3 (ipykernel)",
   "language": "python",
   "name": "python3"
  }
 },
 "nbformat": 4,
 "nbformat_minor": 4
}
