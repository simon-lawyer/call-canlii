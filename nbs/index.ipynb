{
 "cells": [
  {
   "cell_type": "code",
   "execution_count": null,
   "metadata": {},
   "outputs": [],
   "source": [
    "#| hide\n",
    "from call_canlii.caller import *"
   ]
  },
  {
   "cell_type": "markdown",
   "metadata": {},
   "source": [
    "# Call CanLii\n",
    "> Access metadata about Canadian law programmatically "
   ]
  },
  {
   "cell_type": "markdown",
   "metadata": {},
   "source": [
    "[CanLii](www.canlii.org) is an indispensable research tool for lawyers, law students, judges, adjudicators, and researchers. Largely funded by Canadian lawyers, it is the international gold standard when it comes to the free and open access to law.\n",
    "\n",
    "With an intuitive and beautiful interface, researchers use CanLii to look up an individual case or statute, read it, see what cites it, and see what it cites.\n",
    "\n",
    ":::{.column-margin}\n",
    "![\"Computer calls a database,\" AI artist (2022)](images/computer.jpg){fig-alt='\"Computer calls a database,\" AI artist (2022)'}\n",
    ":::\n",
    "\n",
    "Some legal researchers and social scientists require bulk access to legal data for their projects. Fortunately, CanLii provides an [API](https://github.com/canlii/API_documentation/blob/master/EN.md) that allows (limited) programmatic access to its databases. Too few legal researchers, however, know how to use and interact with APIs.\n",
    "\n",
    "This library's purpose is simple: make it easier to use CanLii's APIs. More than that, I demonstrate how easy it is to use code to facilitate aspects of legal research. Use the library, but look at its source code and see if it inspires you to do more. **You can do this!**"
   ]
  },
  {
   "cell_type": "markdown",
   "metadata": {},
   "source": [
    "## Install"
   ]
  },
  {
   "cell_type": "markdown",
   "metadata": {},
   "source": [
    "```sh\n",
    "pip install call_canlii\n",
    "```\n",
    "or\n",
    "```sh\n",
    "conda install call_canlii\n",
    "```"
   ]
  },
  {
   "cell_type": "markdown",
   "metadata": {},
   "source": [
    "## Usage"
   ]
  },
  {
   "cell_type": "markdown",
   "metadata": {},
   "source": [
    "### Get and use your secret API key\n",
    "\n",
    "To use CanLii's API, you need your own secret access key. Applying for a key is simple. Just send a request through the [Canlii feedback form](https://www.canlii.org/en/feedback/feedback.html)."
   ]
  },
  {
   "cell_type": "markdown",
   "metadata": {},
   "source": [
    "Once you have your API key, the rest is easy. First, enter your secret API key and, second, enter your preferred language ('en' or 'fr'). Then call the object."
   ]
  },
  {
   "cell_type": "code",
   "execution_count": null,
   "metadata": {},
   "outputs": [],
   "source": [
    "api = 'MY SECRET API KEY' #this will look like lots of numbers and letters\n",
    "language = 'en'\n",
    "\n",
    "my_caller = Caller(api, language)"
   ]
  },
  {
   "cell_type": "markdown",
   "metadata": {},
   "source": [
    "## A sample research project\n",
    "To see how to use the library, let's do a simple research project and figure out what statutes a recent Supreme Court of Canada case cites to. To do this, we need to figure out where CanLii stores the case and the case name.\n",
    "\n",
    "### Lookup CanLii database names\n",
    "First, let's get a list of CanLii database names."
   ]
  },
  {
   "cell_type": "code",
   "execution_count": null,
   "metadata": {},
   "outputs": [
    {
     "data": {
      "text/html": [
       "<div>\n",
       "<style scoped>\n",
       "    .dataframe tbody tr th:only-of-type {\n",
       "        vertical-align: middle;\n",
       "    }\n",
       "\n",
       "    .dataframe tbody tr th {\n",
       "        vertical-align: top;\n",
       "    }\n",
       "\n",
       "    .dataframe thead th {\n",
       "        text-align: right;\n",
       "    }\n",
       "</style>\n",
       "<table border=\"1\" class=\"dataframe\">\n",
       "  <thead>\n",
       "    <tr style=\"text-align: right;\">\n",
       "      <th></th>\n",
       "      <th>databaseId</th>\n",
       "      <th>jurisdiction</th>\n",
       "      <th>name</th>\n",
       "    </tr>\n",
       "  </thead>\n",
       "  <tbody>\n",
       "    <tr>\n",
       "      <th>0</th>\n",
       "      <td>qccdoooq</td>\n",
       "      <td>qc</td>\n",
       "      <td>Conseil de discipline de l'Ordre des opticiens...</td>\n",
       "    </tr>\n",
       "    <tr>\n",
       "      <th>1</th>\n",
       "      <td>qcoaciq</td>\n",
       "      <td>qc</td>\n",
       "      <td>Comité de discipline de l'organisme d'autorégl...</td>\n",
       "    </tr>\n",
       "    <tr>\n",
       "      <th>2</th>\n",
       "      <td>skqb</td>\n",
       "      <td>sk</td>\n",
       "      <td>Court of King's Bench for Saskatchewan</td>\n",
       "    </tr>\n",
       "    <tr>\n",
       "      <th>3</th>\n",
       "      <td>onsc</td>\n",
       "      <td>on</td>\n",
       "      <td>Superior Court of Justice</td>\n",
       "    </tr>\n",
       "    <tr>\n",
       "      <th>4</th>\n",
       "      <td>abmgb</td>\n",
       "      <td>ab</td>\n",
       "      <td>Alberta Municipal Government Board</td>\n",
       "    </tr>\n",
       "    <tr>\n",
       "      <th>...</th>\n",
       "      <td>...</td>\n",
       "      <td>...</td>\n",
       "      <td>...</td>\n",
       "    </tr>\n",
       "    <tr>\n",
       "      <th>357</th>\n",
       "      <td>ytrto</td>\n",
       "      <td>yk</td>\n",
       "      <td>Yukon Residential Tenancies Office</td>\n",
       "    </tr>\n",
       "    <tr>\n",
       "      <th>358</th>\n",
       "      <td>nbsec</td>\n",
       "      <td>nb</td>\n",
       "      <td>Financial and Consumer Services Tribunal</td>\n",
       "    </tr>\n",
       "    <tr>\n",
       "      <th>359</th>\n",
       "      <td>onbcc</td>\n",
       "      <td>on</td>\n",
       "      <td>Building Code Commission</td>\n",
       "    </tr>\n",
       "    <tr>\n",
       "      <th>360</th>\n",
       "      <td>exchc-cech</td>\n",
       "      <td>ca</td>\n",
       "      <td>Exchequer Court of Canada</td>\n",
       "    </tr>\n",
       "    <tr>\n",
       "      <th>361</th>\n",
       "      <td>nttc</td>\n",
       "      <td>nt</td>\n",
       "      <td>Territorial Court of the Northwest Territories</td>\n",
       "    </tr>\n",
       "  </tbody>\n",
       "</table>\n",
       "<p>362 rows × 3 columns</p>\n",
       "</div>"
      ],
      "text/plain": [
       "     databaseId jurisdiction  \\\n",
       "0      qccdoooq           qc   \n",
       "1       qcoaciq           qc   \n",
       "2          skqb           sk   \n",
       "3          onsc           on   \n",
       "4         abmgb           ab   \n",
       "..          ...          ...   \n",
       "357       ytrto           yk   \n",
       "358       nbsec           nb   \n",
       "359       onbcc           on   \n",
       "360  exchc-cech           ca   \n",
       "361        nttc           nt   \n",
       "\n",
       "                                                  name  \n",
       "0    Conseil de discipline de l'Ordre des opticiens...  \n",
       "1    Comité de discipline de l'organisme d'autorégl...  \n",
       "2               Court of King's Bench for Saskatchewan  \n",
       "3                            Superior Court of Justice  \n",
       "4                   Alberta Municipal Government Board  \n",
       "..                                                 ...  \n",
       "357                 Yukon Residential Tenancies Office  \n",
       "358           Financial and Consumer Services Tribunal  \n",
       "359                           Building Code Commission  \n",
       "360                          Exchequer Court of Canada  \n",
       "361     Territorial Court of the Northwest Territories  \n",
       "\n",
       "[362 rows x 3 columns]"
      ]
     },
     "execution_count": null,
     "metadata": {},
     "output_type": "execute_result"
    }
   ],
   "source": [
    "my_caller.list_tribunals()"
   ]
  },
  {
   "cell_type": "markdown",
   "metadata": {},
   "source": [
    "We can do a few things from here. First, if you want to save this as an excel or a csv file, that's easy!"
   ]
  },
  {
   "cell_type": "code",
   "execution_count": null,
   "metadata": {},
   "outputs": [],
   "source": [
    "my_caller.list_tribunals().to_csv('CanLii_tribunal_list.csv')"
   ]
  },
  {
   "cell_type": "markdown",
   "metadata": {},
   "source": [
    "Or you can search directly for the Supreme Court of Canada's database ID."
   ]
  },
  {
   "cell_type": "code",
   "execution_count": null,
   "metadata": {},
   "outputs": [
    {
     "data": {
      "text/html": [
       "<div>\n",
       "<style scoped>\n",
       "    .dataframe tbody tr th:only-of-type {\n",
       "        vertical-align: middle;\n",
       "    }\n",
       "\n",
       "    .dataframe tbody tr th {\n",
       "        vertical-align: top;\n",
       "    }\n",
       "\n",
       "    .dataframe thead th {\n",
       "        text-align: right;\n",
       "    }\n",
       "</style>\n",
       "<table border=\"1\" class=\"dataframe\">\n",
       "  <thead>\n",
       "    <tr style=\"text-align: right;\">\n",
       "      <th></th>\n",
       "      <th>databaseId</th>\n",
       "      <th>jurisdiction</th>\n",
       "      <th>name</th>\n",
       "    </tr>\n",
       "  </thead>\n",
       "  <tbody>\n",
       "    <tr>\n",
       "      <th>90</th>\n",
       "      <td>csc-scc</td>\n",
       "      <td>ca</td>\n",
       "      <td>Supreme Court of Canada</td>\n",
       "    </tr>\n",
       "  </tbody>\n",
       "</table>\n",
       "</div>"
      ],
      "text/plain": [
       "   databaseId jurisdiction                     name\n",
       "90    csc-scc           ca  Supreme Court of Canada"
      ]
     },
     "execution_count": null,
     "metadata": {},
     "output_type": "execute_result"
    }
   ],
   "source": [
    "df = my_caller.list_tribunals()\n",
    "df[df['name'] == 'Supreme Court of Canada']\n"
   ]
  },
  {
   "cell_type": "markdown",
   "metadata": {},
   "source": [
    "### Find recent decisions by the SCC"
   ]
  },
  {
   "cell_type": "markdown",
   "metadata": {},
   "source": [
    "Great! Now that we have the database ID for SCC cases, we can zero in on a recent case. To list individual cases from the database, we call a different function.\n",
    "\n",
    "This function has a few paramaters. You can decide whether you want the results in ascending or descending chronological order (defaults to descending) and how many results you want the API to return (defaults to 100)."
   ]
  },
  {
   "cell_type": "code",
   "execution_count": null,
   "metadata": {},
   "outputs": [
    {
     "data": {
      "text/html": [
       "<div>\n",
       "<style scoped>\n",
       "    .dataframe tbody tr th:only-of-type {\n",
       "        vertical-align: middle;\n",
       "    }\n",
       "\n",
       "    .dataframe tbody tr th {\n",
       "        vertical-align: top;\n",
       "    }\n",
       "\n",
       "    .dataframe thead th {\n",
       "        text-align: right;\n",
       "    }\n",
       "</style>\n",
       "<table border=\"1\" class=\"dataframe\">\n",
       "  <thead>\n",
       "    <tr style=\"text-align: right;\">\n",
       "      <th></th>\n",
       "      <th>caseId</th>\n",
       "      <th>title</th>\n",
       "      <th>citation</th>\n",
       "    </tr>\n",
       "  </thead>\n",
       "  <tbody>\n",
       "    <tr>\n",
       "      <th>0</th>\n",
       "      <td>2022scc34</td>\n",
       "      <td>R. v. Schneider</td>\n",
       "      <td>2022 SCC 34 (CanLII)</td>\n",
       "    </tr>\n",
       "    <tr>\n",
       "      <th>1</th>\n",
       "      <td>2022scc33</td>\n",
       "      <td>R. v. Kirkpatrick</td>\n",
       "      <td>2022 SCC 33 (CanLII)</td>\n",
       "    </tr>\n",
       "    <tr>\n",
       "      <th>2</th>\n",
       "      <td>2022scc32</td>\n",
       "      <td>R. v. Lafrance</td>\n",
       "      <td>2022 SCC 32 (CanLII)</td>\n",
       "    </tr>\n",
       "    <tr>\n",
       "      <th>3</th>\n",
       "      <td>2022scc31</td>\n",
       "      <td>R. v. Sundman</td>\n",
       "      <td>2022 SCC 31 (CanLII)</td>\n",
       "    </tr>\n",
       "    <tr>\n",
       "      <th>4</th>\n",
       "      <td>2022scc30</td>\n",
       "      <td>Society of Composers, Authors and Music Publis...</td>\n",
       "      <td>2022 SCC 30 (CanLII)</td>\n",
       "    </tr>\n",
       "    <tr>\n",
       "      <th>5</th>\n",
       "      <td>2022scc29</td>\n",
       "      <td>Law Society of Saskatchewan v. Abrametz</td>\n",
       "      <td>2022 SCC 29 (CanLII)</td>\n",
       "    </tr>\n",
       "    <tr>\n",
       "      <th>6</th>\n",
       "      <td>2022scc28</td>\n",
       "      <td>R. v. J.J.</td>\n",
       "      <td>2022 SCC 28 (CanLII)</td>\n",
       "    </tr>\n",
       "    <tr>\n",
       "      <th>7</th>\n",
       "      <td>2022scc27</td>\n",
       "      <td>British Columbia (Attorney General) v. Council...</td>\n",
       "      <td>2022 SCC 27 (CanLII)</td>\n",
       "    </tr>\n",
       "    <tr>\n",
       "      <th>8</th>\n",
       "      <td>2022scc26</td>\n",
       "      <td>Canada (Attorney General) v. Collins Family Trust</td>\n",
       "      <td>2022 SCC 26 (CanLII)</td>\n",
       "    </tr>\n",
       "    <tr>\n",
       "      <th>9</th>\n",
       "      <td>2022scc25</td>\n",
       "      <td>R. v. Goforth</td>\n",
       "      <td>2022 SCC 25 (CanLII)</td>\n",
       "    </tr>\n",
       "  </tbody>\n",
       "</table>\n",
       "</div>"
      ],
      "text/plain": [
       "      caseId                                              title  \\\n",
       "0  2022scc34                                    R. v. Schneider   \n",
       "1  2022scc33                                  R. v. Kirkpatrick   \n",
       "2  2022scc32                                     R. v. Lafrance   \n",
       "3  2022scc31                                      R. v. Sundman   \n",
       "4  2022scc30  Society of Composers, Authors and Music Publis...   \n",
       "5  2022scc29            Law Society of Saskatchewan v. Abrametz   \n",
       "6  2022scc28                                         R. v. J.J.   \n",
       "7  2022scc27  British Columbia (Attorney General) v. Council...   \n",
       "8  2022scc26  Canada (Attorney General) v. Collins Family Trust   \n",
       "9  2022scc25                                      R. v. Goforth   \n",
       "\n",
       "               citation  \n",
       "0  2022 SCC 34 (CanLII)  \n",
       "1  2022 SCC 33 (CanLII)  \n",
       "2  2022 SCC 32 (CanLII)  \n",
       "3  2022 SCC 31 (CanLII)  \n",
       "4  2022 SCC 30 (CanLII)  \n",
       "5  2022 SCC 29 (CanLII)  \n",
       "6  2022 SCC 28 (CanLII)  \n",
       "7  2022 SCC 27 (CanLII)  \n",
       "8  2022 SCC 26 (CanLII)  \n",
       "9  2022 SCC 25 (CanLII)  "
      ]
     },
     "execution_count": null,
     "metadata": {},
     "output_type": "execute_result"
    }
   ],
   "source": [
    "my_caller.list_decisions(databaseId='csc-scc', offset=0, resultCount=10)\n"
   ]
  },
  {
   "cell_type": "markdown",
   "metadata": {},
   "source": [
    "### Search for case metadata"
   ]
  },
  {
   "cell_type": "markdown",
   "metadata": {},
   "source": [
    "We can look up the metadata for any case. Let's see what the fifth case down is about."
   ]
  },
  {
   "cell_type": "code",
   "execution_count": null,
   "metadata": {},
   "outputs": [
    {
     "data": {
      "text/plain": [
       "databaseId                                                  csc-scc\n",
       "caseId                                                    2022scc30\n",
       "url                                       https://canlii.ca/t/jqgw0\n",
       "title             Society of Composers, Authors and Music Publis...\n",
       "citation                                       2022 SCC 30 (CanLII)\n",
       "language                                                         en\n",
       "docketNumber                                                  39418\n",
       "decisionDate                                             2022-07-15\n",
       "keywords          technological neutrality — available for on-de...\n",
       "topics                                                             \n",
       "concatenatedId                                        2022csc-scc30\n",
       "dtype: object"
      ]
     },
     "execution_count": null,
     "metadata": {},
     "output_type": "execute_result"
    }
   ],
   "source": [
    "my_caller.case_metadata(databaseId='csc-scc', caseId='2022scc30')\n"
   ]
  },
  {
   "cell_type": "markdown",
   "metadata": {},
   "source": [
    "### Check to see what legislation the Court cites"
   ]
  },
  {
   "cell_type": "markdown",
   "metadata": {},
   "source": [
    "Interesting! This case is interesting, I wonder what statutory provisions in cites?"
   ]
  },
  {
   "cell_type": "code",
   "execution_count": null,
   "metadata": {},
   "outputs": [
    {
     "data": {
      "text/html": [
       "<div>\n",
       "<style scoped>\n",
       "    .dataframe tbody tr th:only-of-type {\n",
       "        vertical-align: middle;\n",
       "    }\n",
       "\n",
       "    .dataframe tbody tr th {\n",
       "        vertical-align: top;\n",
       "    }\n",
       "\n",
       "    .dataframe thead th {\n",
       "        text-align: right;\n",
       "    }\n",
       "</style>\n",
       "<table border=\"1\" class=\"dataframe\">\n",
       "  <thead>\n",
       "    <tr style=\"text-align: right;\">\n",
       "      <th></th>\n",
       "      <th>databaseId</th>\n",
       "      <th>legislationId</th>\n",
       "      <th>title</th>\n",
       "      <th>citation</th>\n",
       "      <th>type</th>\n",
       "    </tr>\n",
       "  </thead>\n",
       "  <tbody>\n",
       "    <tr>\n",
       "      <th>0</th>\n",
       "      <td>cas</td>\n",
       "      <td>rsc-1985-c-c-42</td>\n",
       "      <td>Copyright Act</td>\n",
       "      <td>RSC 1985, c C-42</td>\n",
       "      <td>STATUTE</td>\n",
       "    </tr>\n",
       "    <tr>\n",
       "      <th>1</th>\n",
       "      <td>caa</td>\n",
       "      <td>sc-2012-c-20</td>\n",
       "      <td>Copyright Modernization Act</td>\n",
       "      <td>SC 2012, c 20</td>\n",
       "      <td>ANNUAL_STATUTE</td>\n",
       "    </tr>\n",
       "  </tbody>\n",
       "</table>\n",
       "</div>"
      ],
      "text/plain": [
       "  databaseId    legislationId                        title          citation  \\\n",
       "0        cas  rsc-1985-c-c-42                Copyright Act  RSC 1985, c C-42   \n",
       "1        caa     sc-2012-c-20  Copyright Modernization Act     SC 2012, c 20   \n",
       "\n",
       "             type  \n",
       "0         STATUTE  \n",
       "1  ANNUAL_STATUTE  "
      ]
     },
     "execution_count": null,
     "metadata": {},
     "output_type": "execute_result"
    }
   ],
   "source": [
    "my_caller.case_cites_of_legislation(databaseId='csc-scc', caseId='2022scc30')\n"
   ]
  },
  {
   "cell_type": "markdown",
   "metadata": {},
   "source": [
    "Only two! Even though the [full judgement](https://www.canlii.org/en/ca/scc/doc/2022/2022scc30/2022scc30.html?autocompleteStr=2022%20SCC%2030&autocompletePos=1) is long, this looks right."
   ]
  },
  {
   "cell_type": "markdown",
   "metadata": {},
   "source": [
    "## Using loops\n",
    "This program is designed to support queries at scale. You can, for example, retrieve all of the keywords for the last ten SCC decisions.\n",
    "\n",
    "First, request a dataframe of the last ten decisions."
   ]
  },
  {
   "cell_type": "code",
   "execution_count": null,
   "metadata": {},
   "outputs": [],
   "source": [
    "df = my_caller.list_decisions(databaseId='csc-scc', offset=0, resultCount=10)\n",
    "df"
   ]
  },
  {
   "cell_type": "markdown",
   "metadata": {},
   "source": [
    "Second, loop over the dataframe and make a separate call for the keywords of each case."
   ]
  },
  {
   "cell_type": "code",
   "execution_count": null,
   "metadata": {},
   "outputs": [
    {
     "name": "stdout",
     "output_type": "stream",
     "text": [
      "Keywords for 2022scc34.\n",
      "brother — overheard — jury — evidence — probative value\n",
      "---\n",
      "Keywords for 2022scc33.\n",
      "stare decisis — sexual activity — precedent — without a condom — sex\n",
      "---\n",
      "Keywords for 2022scc32.\n",
      "police — detainee — detention — interview — encounter\n",
      "---\n",
      "Keywords for 2022scc31.\n",
      "unlawful confinement — degree murder — domination — truck — temporal-causal connection\n",
      "---\n",
      "Keywords for 2022scc30.\n",
      "technological neutrality — available for on-demand streaming — work — royalties — works\n",
      "---\n",
      "Keywords for 2022scc29.\n",
      "abuse — inordinate delay — process — stay — prejudice\n",
      "---\n",
      "Keywords for 2022scc28.\n",
      "record screening regime — complainants — privacy — evidence — defence\n",
      "---\n",
      "Keywords for 2022scc27.\n",
      "well-developed factual setting — public interest standing — access to justice — disabilities — legality\n",
      "---\n",
      "Keywords for 2022scc26.\n",
      "tax — rescission — taxpayer — rectification — mistake\n",
      "---\n",
      "Keywords for 2022scc25.\n",
      "jury — unlawfully causing bodily harm — necessaries — mens rea requirement — marked departure\n",
      "---\n"
     ]
    }
   ],
   "source": [
    "for index,row in df.iterrows():\n",
    "    case = df.loc[index,'caseId']\n",
    "    print(f'Keywords for {case}.')\n",
    "    print(my_caller.case_metadata(databaseId='csc-scc', caseId=case)['keywords'])\n",
    "    print('---')\n",
    "    "
   ]
  }
 ],
 "metadata": {
  "kernelspec": {
   "display_name": "Python 3 (ipykernel)",
   "language": "python",
   "name": "python3"
  }
 },
 "nbformat": 4,
 "nbformat_minor": 4
}
